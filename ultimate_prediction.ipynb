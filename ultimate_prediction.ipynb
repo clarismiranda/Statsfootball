{
 "cells": [
  {
   "cell_type": "code",
   "execution_count": null,
   "metadata": {},
   "outputs": [],
   "source": [
    "\"\"\"\n",
    "    Ranking:\n",
    "        1.1 Hierarchical Clustering\n",
    "        1.2 Map labels to future matches as home and away of past season\n",
    "            1.2.1 If team is new, label it as normal (which is a not promoted team)\n",
    "        1.3 Compute difference in ranking (NO because of no sequential)\n",
    "        1.4 Future work: study the week development of the league to see if there is a point where\n",
    "            It can be started to predict the actual behavior of the team as the promotion label\n",
    "    Prediction:\n",
    "        2.0 Drop features --> computation differences\n",
    "        2.1 Features TEST\n",
    "            2.1.0 First match as median of past season (already started) TODO\n",
    "            2.1.2 Median of current season\n",
    "            2.1.2.1 Average at home/away\n",
    "            2.1.2.2 Past average of last n games (test with 3, 5, etc)\n",
    "            2.1.2.3 Average of last n games at home/away\n",
    "\"\"\""
   ]
  }
 ],
 "metadata": {
  "kernelspec": {
   "display_name": "Python 3",
   "language": "python",
   "name": "python3"
  },
  "language_info": {
   "codemirror_mode": {
    "name": "ipython",
    "version": 3
   },
   "file_extension": ".py",
   "mimetype": "text/x-python",
   "name": "python",
   "nbconvert_exporter": "python",
   "pygments_lexer": "ipython3",
   "version": "3.7.7"
  }
 },
 "nbformat": 4,
 "nbformat_minor": 4
}
