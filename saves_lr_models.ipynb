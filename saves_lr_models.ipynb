{
 "cells": [
  {
   "cell_type": "code",
   "execution_count": null,
   "metadata": {},
   "outputs": [],
   "source": [
    "\"\"\"\n",
    "    Pre trains linear regression models for each variable\n",
    "    From season 2016 to 2018\n",
    "\"\"\""
   ]
  },
  {
   "cell_type": "code",
   "execution_count": 19,
   "metadata": {},
   "outputs": [],
   "source": [
    "import numpy as np\n",
    "import pandas as pd\n",
    "import pickle\n",
    "import playstyle\n",
    "from sklearn import linear_model"
   ]
  },
  {
   "cell_type": "code",
   "execution_count": 20,
   "metadata": {},
   "outputs": [],
   "source": [
    "\"\"\"\n",
    "    Creates the statistics dataset\n",
    "\"\"\"\n",
    "def get_statistics(country, league, curr_week, season, year_window=1):\n",
    "    # Historicity: multi season directory\n",
    "    start_season = season\n",
    "    seasons = list(range(start_season, start_season - year_window, -1))\n",
    "    seasons = sorted(seasons, reverse=True)\n",
    "    # Data initialization\n",
    "    data = []\n",
    "    for season in seasons:\n",
    "        df, target = playstyle.df_season(country, league, season, curr_week, drop_goals=False)\n",
    "        tup = (season, df, target)\n",
    "        data.append(tup)\n",
    "    all_data, all_target = playstyle.get_all(data)\n",
    "    return all_data, all_target"
   ]
  },
  {
   "cell_type": "code",
   "execution_count": 21,
   "metadata": {},
   "outputs": [],
   "source": [
    "def create_save_model(data, column, country):\n",
    "    # Training phase\n",
    "    model = linear_model.LinearRegression()\n",
    "    X = data.drop(column,1)\n",
    "    y = data[column]\n",
    "    model.fit(X, y)\n",
    "    # Saves model\n",
    "    filename = 'model/' + country + '/' + column + '.sav'\n",
    "    pickle.dump(model, open(filename, 'wb'))"
   ]
  },
  {
   "cell_type": "code",
   "execution_count": 24,
   "metadata": {},
   "outputs": [],
   "source": [
    "def every_model(data, country):\n",
    "    data = data.drop(columns=['season', 'week', 'home_team.id', 'away_team.id', 'home_team.name', 'away_team.name'])\n",
    "    columns = ['stats_home.s_on_g', 'stats_home.s_off_g', 'stats_home.s_in',\n",
    "       'stats_home.s_out', 'stats_home.s_total', 'stats_home.s_blocked',\n",
    "       'stats_home.fouls', 'stats_home.corners', 'stats_home.offside',\n",
    "       'stats_home.possession', 'stats_home.c_yellow', 'stats_home.c_red',\n",
    "       'stats_home.saves', 'stats_home.p_total', 'stats_home.p_accurate',\n",
    "       'stats_home.p_percentage', 'stats_away.s_on_g', 'stats_away.s_off_g',\n",
    "       'stats_away.s_in', 'stats_away.s_out', 'stats_away.s_total',\n",
    "       'stats_away.s_blocked', 'stats_away.fouls', 'stats_away.corners',\n",
    "       'stats_away.offside', 'stats_away.possession', 'stats_away.c_yellow',\n",
    "       'stats_away.c_red', 'stats_away.saves', 'stats_away.p_total',\n",
    "       'stats_away.p_accurate', 'stats_away.p_percentage']\n",
    "    for column in columns:\n",
    "        create_save_model(data, column, country)"
   ]
  },
  {
   "cell_type": "code",
   "execution_count": 25,
   "metadata": {},
   "outputs": [
    {
     "name": "stdout",
     "output_type": "stream",
     "text": [
      "34\n",
      "Index(['goals_home', 'goals_away', 'stats_home.s_on_g', 'stats_home.s_off_g',\n",
      "       'stats_home.s_in', 'stats_home.s_out', 'stats_home.s_total',\n",
      "       'stats_home.s_blocked', 'stats_home.fouls', 'stats_home.corners',\n",
      "       'stats_home.offside', 'stats_home.possession', 'stats_home.c_yellow',\n",
      "       'stats_home.c_red', 'stats_home.saves', 'stats_home.p_total',\n",
      "       'stats_home.p_accurate', 'stats_home.p_percentage', 'stats_away.s_on_g',\n",
      "       'stats_away.s_off_g', 'stats_away.s_in', 'stats_away.s_out',\n",
      "       'stats_away.s_total', 'stats_away.s_blocked', 'stats_away.fouls',\n",
      "       'stats_away.corners', 'stats_away.offside', 'stats_away.possession',\n",
      "       'stats_away.c_yellow', 'stats_away.c_red', 'stats_away.saves',\n",
      "       'stats_away.p_total', 'stats_away.p_accurate',\n",
      "       'stats_away.p_percentage'],\n",
      "      dtype='object')\n"
     ]
    }
   ],
   "source": [
    "# Loads data\n",
    "global country\n",
    "country = 'ES'\n",
    "league = '140'\n",
    "curr_week = 38\n",
    "season = 2018\n",
    "\n",
    "# Dataframe for the match (test from 2017 to 2019)\n",
    "statistics_to_test, target = get_statistics(country, league, curr_week, season, year_window=3)\n",
    "every_model(statistics_to_test, country)"
   ]
  },
  {
   "cell_type": "code",
   "execution_count": null,
   "metadata": {},
   "outputs": [],
   "source": []
  }
 ],
 "metadata": {
  "kernelspec": {
   "display_name": "Python 3",
   "language": "python",
   "name": "python3"
  },
  "language_info": {
   "codemirror_mode": {
    "name": "ipython",
    "version": 3
   },
   "file_extension": ".py",
   "mimetype": "text/x-python",
   "name": "python",
   "nbconvert_exporter": "python",
   "pygments_lexer": "ipython3",
   "version": "3.7.7"
  }
 },
 "nbformat": 4,
 "nbformat_minor": 4
}
