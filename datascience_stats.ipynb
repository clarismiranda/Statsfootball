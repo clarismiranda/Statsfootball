{
 "cells": [
  {
   "cell_type": "code",
   "execution_count": null,
   "metadata": {},
   "outputs": [],
   "source": [
    "\"\"\"\n",
    "    Analyzing some variables in a league\n",
    "\"\"\""
   ]
  },
  {
   "cell_type": "code",
   "execution_count": 12,
   "metadata": {},
   "outputs": [],
   "source": [
    "import matplotlib.pyplot as plt\n",
    "import numpy as np\n",
    "import pandas as pd"
   ]
  },
  {
   "cell_type": "code",
   "execution_count": 13,
   "metadata": {},
   "outputs": [],
   "source": [
    "# Finding the csv from the league\n",
    "# Multi League directory\n",
    "country = 'GB'\n",
    "dirCountry = '../' + country + '/'\n",
    "# csv to save\n",
    "file_title = 'premier_39.csv'\n",
    "csv_file = dirCountry + file_title"
   ]
  },
  {
   "cell_type": "code",
   "execution_count": 14,
   "metadata": {},
   "outputs": [],
   "source": [
    "# Testing against current season\n",
    "current_season = 2019"
   ]
  },
  {
   "cell_type": "code",
   "execution_count": 15,
   "metadata": {},
   "outputs": [],
   "source": [
    "# Retrieving previous saved data\n",
    "df_laliga = pd.read_csv(csv_file) \n",
    "df_laliga = df_laliga.drop(df_laliga.columns[0], axis=1)"
   ]
  },
  {
   "cell_type": "code",
   "execution_count": 16,
   "metadata": {},
   "outputs": [
    {
     "data": {
      "text/html": [
       "<div>\n",
       "<style scoped>\n",
       "    .dataframe tbody tr th:only-of-type {\n",
       "        vertical-align: middle;\n",
       "    }\n",
       "\n",
       "    .dataframe tbody tr th {\n",
       "        vertical-align: top;\n",
       "    }\n",
       "\n",
       "    .dataframe thead th {\n",
       "        text-align: right;\n",
       "    }\n",
       "</style>\n",
       "<table border=\"1\" class=\"dataframe\">\n",
       "  <thead>\n",
       "    <tr style=\"text-align: right;\">\n",
       "      <th></th>\n",
       "      <th>id</th>\n",
       "      <th>week</th>\n",
       "      <th>goals_fhome</th>\n",
       "      <th>goals_faway</th>\n",
       "      <th>goals_shome</th>\n",
       "      <th>goals_saway</th>\n",
       "      <th>league</th>\n",
       "      <th>season</th>\n",
       "      <th>team_home.team.id</th>\n",
       "      <th>team_home.team.name</th>\n",
       "      <th>...</th>\n",
       "      <th>stats_away.fouls</th>\n",
       "      <th>stats_away.corners</th>\n",
       "      <th>stats_away.offside</th>\n",
       "      <th>stats_away.possession</th>\n",
       "      <th>stats_away.c_yellow</th>\n",
       "      <th>stats_away.c_red</th>\n",
       "      <th>stats_away.saves</th>\n",
       "      <th>stats_away.p_total</th>\n",
       "      <th>stats_away.p_accurate</th>\n",
       "      <th>stats_away.p_percentage</th>\n",
       "    </tr>\n",
       "  </thead>\n",
       "  <tbody>\n",
       "    <tr>\n",
       "      <th>0</th>\n",
       "      <td>157306</td>\n",
       "      <td>30</td>\n",
       "      <td>1</td>\n",
       "      <td>0</td>\n",
       "      <td>1</td>\n",
       "      <td>2</td>\n",
       "      <td>39</td>\n",
       "      <td>2019</td>\n",
       "      <td>66</td>\n",
       "      <td>Aston Villa</td>\n",
       "      <td>...</td>\n",
       "      <td>17</td>\n",
       "      <td>10.0</td>\n",
       "      <td>NaN</td>\n",
       "      <td>74%</td>\n",
       "      <td>1.0</td>\n",
       "      <td>NaN</td>\n",
       "      <td>3.0</td>\n",
       "      <td>685</td>\n",
       "      <td>589</td>\n",
       "      <td>86%</td>\n",
       "    </tr>\n",
       "    <tr>\n",
       "      <th>1</th>\n",
       "      <td>157376</td>\n",
       "      <td>37</td>\n",
       "      <td>1</td>\n",
       "      <td>0</td>\n",
       "      <td>1</td>\n",
       "      <td>0</td>\n",
       "      <td>39</td>\n",
       "      <td>2019</td>\n",
       "      <td>66</td>\n",
       "      <td>Aston Villa</td>\n",
       "      <td>...</td>\n",
       "      <td>19</td>\n",
       "      <td>9.0</td>\n",
       "      <td>1.0</td>\n",
       "      <td>69%</td>\n",
       "      <td>4.0</td>\n",
       "      <td>NaN</td>\n",
       "      <td>2.0</td>\n",
       "      <td>595</td>\n",
       "      <td>522</td>\n",
       "      <td>88%</td>\n",
       "    </tr>\n",
       "    <tr>\n",
       "      <th>2</th>\n",
       "      <td>157056</td>\n",
       "      <td>5</td>\n",
       "      <td>0</td>\n",
       "      <td>0</td>\n",
       "      <td>0</td>\n",
       "      <td>0</td>\n",
       "      <td>39</td>\n",
       "      <td>2019</td>\n",
       "      <td>66</td>\n",
       "      <td>Aston Villa</td>\n",
       "      <td>...</td>\n",
       "      <td>12</td>\n",
       "      <td>4.0</td>\n",
       "      <td>3.0</td>\n",
       "      <td>54%</td>\n",
       "      <td>3.0</td>\n",
       "      <td>1.0</td>\n",
       "      <td>5.0</td>\n",
       "      <td>470</td>\n",
       "      <td>391</td>\n",
       "      <td>83%</td>\n",
       "    </tr>\n",
       "    <tr>\n",
       "      <th>3</th>\n",
       "      <td>157286</td>\n",
       "      <td>28</td>\n",
       "      <td>0</td>\n",
       "      <td>0</td>\n",
       "      <td>0</td>\n",
       "      <td>0</td>\n",
       "      <td>39</td>\n",
       "      <td>2019</td>\n",
       "      <td>66</td>\n",
       "      <td>Aston Villa</td>\n",
       "      <td>...</td>\n",
       "      <td>14</td>\n",
       "      <td>4.0</td>\n",
       "      <td>NaN</td>\n",
       "      <td>55%</td>\n",
       "      <td>1.0</td>\n",
       "      <td>NaN</td>\n",
       "      <td>6.0</td>\n",
       "      <td>474</td>\n",
       "      <td>377</td>\n",
       "      <td>80%</td>\n",
       "    </tr>\n",
       "    <tr>\n",
       "      <th>4</th>\n",
       "      <td>157266</td>\n",
       "      <td>26</td>\n",
       "      <td>1</td>\n",
       "      <td>2</td>\n",
       "      <td>2</td>\n",
       "      <td>3</td>\n",
       "      <td>39</td>\n",
       "      <td>2019</td>\n",
       "      <td>66</td>\n",
       "      <td>Aston Villa</td>\n",
       "      <td>...</td>\n",
       "      <td>10</td>\n",
       "      <td>7.0</td>\n",
       "      <td>1.0</td>\n",
       "      <td>46%</td>\n",
       "      <td>NaN</td>\n",
       "      <td>NaN</td>\n",
       "      <td>3.0</td>\n",
       "      <td>386</td>\n",
       "      <td>292</td>\n",
       "      <td>76%</td>\n",
       "    </tr>\n",
       "  </tbody>\n",
       "</table>\n",
       "<p>5 rows × 124 columns</p>\n",
       "</div>"
      ],
      "text/plain": [
       "       id  week  goals_fhome  goals_faway  goals_shome  goals_saway  league  \\\n",
       "0  157306    30            1            0            1            2      39   \n",
       "1  157376    37            1            0            1            0      39   \n",
       "2  157056     5            0            0            0            0      39   \n",
       "3  157286    28            0            0            0            0      39   \n",
       "4  157266    26            1            2            2            3      39   \n",
       "\n",
       "   season  team_home.team.id team_home.team.name  ...  stats_away.fouls  \\\n",
       "0    2019                 66         Aston Villa  ...                17   \n",
       "1    2019                 66         Aston Villa  ...                19   \n",
       "2    2019                 66         Aston Villa  ...                12   \n",
       "3    2019                 66         Aston Villa  ...                14   \n",
       "4    2019                 66         Aston Villa  ...                10   \n",
       "\n",
       "   stats_away.corners  stats_away.offside stats_away.possession  \\\n",
       "0                10.0                 NaN                   74%   \n",
       "1                 9.0                 1.0                   69%   \n",
       "2                 4.0                 3.0                   54%   \n",
       "3                 4.0                 NaN                   55%   \n",
       "4                 7.0                 1.0                   46%   \n",
       "\n",
       "   stats_away.c_yellow stats_away.c_red  stats_away.saves  stats_away.p_total  \\\n",
       "0                  1.0              NaN               3.0                 685   \n",
       "1                  4.0              NaN               2.0                 595   \n",
       "2                  3.0              1.0               5.0                 470   \n",
       "3                  1.0              NaN               6.0                 474   \n",
       "4                  NaN              NaN               3.0                 386   \n",
       "\n",
       "   stats_away.p_accurate  stats_away.p_percentage  \n",
       "0                    589                      86%  \n",
       "1                    522                      88%  \n",
       "2                    391                      83%  \n",
       "3                    377                      80%  \n",
       "4                    292                      76%  \n",
       "\n",
       "[5 rows x 124 columns]"
      ]
     },
     "execution_count": 16,
     "metadata": {},
     "output_type": "execute_result"
    }
   ],
   "source": [
    "df_laliga.head()"
   ]
  },
  {
   "cell_type": "code",
   "execution_count": 101,
   "metadata": {},
   "outputs": [
    {
     "name": "stdout",
     "output_type": "stream",
     "text": [
      "1509\n",
      "475\n",
      "1034\n",
      "266\n",
      "576\n",
      "209\n",
      "458\n"
     ]
    }
   ],
   "source": [
    "# Goal frequency\n",
    "total_goals_fhome = df_laliga[\"goals_fhome\"].sum()\n",
    "total_goals_shome = df_laliga[\"goals_shome\"].sum()\n",
    "total_goals_faway = df_laliga[\"goals_faway\"].sum()\n",
    "total_goals_saway = df_laliga[\"goals_saway\"].sum()\n",
    "total_goals_fh = total_goals_fhome + total_goals_faway\n",
    "total_goals_sh = total_goals_shome + total_goals_saway\n",
    "all_goals = total_goals_fh + total_goals_sh\n",
    "percentage_goals_fh = round(total_goals_fh / all_goals * 100, 2)\n",
    "percentage_goals_sh = round(total_goals_sh / all_goals * 100, 2)\n",
    "percentage_goals_fhome = round(total_goals_fhome / (total_goals_fh) * 100, 2)\n",
    "percentage_goals_shome = round(total_goals_shome / (total_goals_sh) * 100, 2)\n",
    "percentage_goals_faway = round(total_goals_faway / (total_goals_fh) * 100, 2)\n",
    "percentage_goals_saway = round(total_goals_saway / (total_goals_sh) * 100, 2)"
   ]
  },
  {
   "cell_type": "code",
   "execution_count": 97,
   "metadata": {},
   "outputs": [],
   "source": [
    "# Goal frequency from all goals\n",
    "percentage_goals_fhome = round(total_goals_fhome / all_goals * 100, 2)\n",
    "percentage_goals_shome = round(total_goals_shome / all_goals * 100, 2)\n",
    "percentage_goals_faway = round(total_goals_faway / all_goals * 100, 2)\n",
    "percentage_goals_saway = round(total_goals_saway / all_goals * 100, 2)"
   ]
  },
  {
   "cell_type": "code",
   "execution_count": 98,
   "metadata": {},
   "outputs": [
    {
     "data": {
      "text/plain": [
       "[Text(0.5, 1.0, 'Goles anotados en Premier League S2019/20'), None]"
      ]
     },
     "execution_count": 98,
     "metadata": {},
     "output_type": "execute_result"
    },
    {
     "data": {
      "image/png": "[encoded data removed]",
      "text/plain": [
       "<Figure size 432x288 with 1 Axes>"
      ]
     },
     "metadata": {},
     "output_type": "display_data"
    }
   ],
   "source": [
    "fig, ax = plt.subplots()\n",
    "fig.patch.set_facecolor('aliceblue')\n",
    "size = 0.3\n",
    "outer_labels = [r'1er tiempo ('+ str(percentage_goals_fh) + '%)', r'2do tiempo (' + str(percentage_goals_sh) + '%)']\n",
    "inner_labels = [r'local ('+ str(percentage_goals_fhome) + '%)', r'visitante (' + str(percentage_goals_faway) + '%)', \n",
    "          r'local ('+ str(percentage_goals_shome) + '%)', r'visitante (' + str(percentage_goals_saway) + '%)']\n",
    "\n",
    "vals = np.array([[total_goals_fh, total_goals_fhome], [total_goals_sh, total_goals_shome]])\n",
    "\n",
    "ax.pie(vals.sum(axis=1), radius=1, colors=[\"palevioletred\",\"#2B333D\"], labels = outer_labels,\n",
    "       wedgeprops=dict(width=size, edgecolor='w'))\n",
    "\n",
    "ax.pie(vals.flatten(), radius=1-size, colors=[\"#ABD1DD\",\"slategrey\"],labels = inner_labels,\n",
    "       wedgeprops=dict(width=size, edgecolor='w'), textprops=dict(color=\"rosybrown\"))\n",
    "ax.set(aspect=\"equal\", title='Goles anotados en Premier League S2019/20')\n",
    "#plt.show()"
   ]
  },
  {
   "cell_type": "code",
   "execution_count": null,
   "metadata": {},
   "outputs": [],
   "source": []
  }
 ],
 "metadata": {
  "kernelspec": {
   "display_name": "Python 3",
   "language": "python",
   "name": "python3"
  },
  "language_info": {
   "codemirror_mode": {
    "name": "ipython",
    "version": 3
   },
   "file_extension": ".py",
   "mimetype": "text/x-python",
   "name": "python",
   "nbconvert_exporter": "python",
   "pygments_lexer": "ipython3",
   "version": "3.7.7"
  }
 },
 "nbformat": 4,
 "nbformat_minor": 4
}
